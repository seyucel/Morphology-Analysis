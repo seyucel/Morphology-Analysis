{
 "cells": [
  {
   "cell_type": "code",
   "execution_count": 1,
   "metadata": {},
   "outputs": [],
   "source": [
    "import numpy as np\n",
    "import matplotlib.pyplot as plt\n",
    "import cv2\n",
    "import matplotlib.image as mpimg\n",
    "image = np.zeros((200,200))\n",
    "image = mpimg.imread('obj_for_chords.tif')\n",
    "image = image/255\n",
    "image = image"
   ]
  },
  {
   "cell_type": "code",
   "execution_count": 28,
   "metadata": {},
   "outputs": [],
   "source": [
    "from skimage.draw import ellipse\n",
    "rr, cc = ellipse(100, 100, 10, 50, rotation=np.deg2rad(0))\n",
    "image[rr, cc] = 1"
   ]
  },
  {
   "cell_type": "code",
   "execution_count": 2,
   "metadata": {},
   "outputs": [
    {
     "data": {
      "text/plain": [
       "<matplotlib.image.AxesImage at 0x203037229b0>"
      ]
     },
     "execution_count": 2,
     "metadata": {},
     "output_type": "execute_result"
    },
    {
     "data": {
      "image/png": "[encoded data removed]",
      "text/plain": [
       "<Figure size 432x288 with 1 Axes>"
      ]
     },
     "metadata": {},
     "output_type": "display_data"
    }
   ],
   "source": [
    "plt.imshow(image)"
   ]
  },
  {
   "cell_type": "code",
   "execution_count": 12,
   "metadata": {},
   "outputs": [
    {
     "ename": "RuntimeError",
     "evalue": "no filter weights given",
     "output_type": "error",
     "traceback": [
      "\u001b[1;31m---------------------------------------------------------------------------\u001b[0m",
      "\u001b[1;31mRuntimeError\u001b[0m                              Traceback (most recent call last)",
      "\u001b[1;32m<ipython-input-12-fd30fedbdc2d>\u001b[0m in \u001b[0;36m<module>\u001b[1;34m()\u001b[0m\n\u001b[0;32m      1\u001b[0m \u001b[1;32mfrom\u001b[0m \u001b[0mscipy\u001b[0m \u001b[1;32mimport\u001b[0m \u001b[0mndimage\u001b[0m\u001b[1;33m\u001b[0m\u001b[0m\n\u001b[0;32m      2\u001b[0m \u001b[0mfiltered_image\u001b[0m \u001b[1;33m=\u001b[0m \u001b[0mndimage\u001b[0m\u001b[1;33m.\u001b[0m\u001b[0mconvolve1d\u001b[0m\u001b[1;33m(\u001b[0m\u001b[0mimage\u001b[0m\u001b[1;33m,\u001b[0m\u001b[0mnp\u001b[0m\u001b[1;33m.\u001b[0m\u001b[0marray\u001b[0m\u001b[1;33m(\u001b[0m\u001b[1;33m[\u001b[0m\u001b[1;36m1\u001b[0m\u001b[1;33m,\u001b[0m\u001b[1;33m-\u001b[0m\u001b[1;36m1\u001b[0m\u001b[1;33m]\u001b[0m\u001b[1;33m)\u001b[0m\u001b[1;33m,\u001b[0m \u001b[0mmode\u001b[0m\u001b[1;33m=\u001b[0m\u001b[1;34m'constant'\u001b[0m\u001b[1;33m)\u001b[0m\u001b[1;33m\u001b[0m\u001b[0m\n\u001b[1;32m----> 3\u001b[1;33m \u001b[0mfiltered_image2\u001b[0m \u001b[1;33m=\u001b[0m \u001b[0mndimage\u001b[0m\u001b[1;33m.\u001b[0m\u001b[0mconvolve1d\u001b[0m\u001b[1;33m(\u001b[0m\u001b[0mimage\u001b[0m\u001b[1;33m,\u001b[0m\u001b[0mnp\u001b[0m\u001b[1;33m.\u001b[0m\u001b[0marray\u001b[0m\u001b[1;33m(\u001b[0m\u001b[1;33m[\u001b[0m\u001b[1;33m[\u001b[0m\u001b[1;36m1\u001b[0m\u001b[1;33m]\u001b[0m\u001b[1;33m,\u001b[0m\u001b[1;33m[\u001b[0m\u001b[1;33m-\u001b[0m\u001b[1;36m1\u001b[0m\u001b[1;33m]\u001b[0m\u001b[1;33m]\u001b[0m\u001b[1;33m)\u001b[0m\u001b[1;33m,\u001b[0m \u001b[0mmode\u001b[0m\u001b[1;33m=\u001b[0m\u001b[1;34m'constant'\u001b[0m\u001b[1;33m)\u001b[0m\u001b[1;33m\u001b[0m\u001b[0m\n\u001b[0m",
      "\u001b[1;32m~\\Anaconda3\\lib\\site-packages\\scipy\\ndimage\\filters.py\u001b[0m in \u001b[0;36mconvolve1d\u001b[1;34m(input, weights, axis, output, mode, cval, origin)\u001b[0m\n\u001b[0;32m    128\u001b[0m     \u001b[1;32mif\u001b[0m \u001b[1;32mnot\u001b[0m \u001b[0mlen\u001b[0m\u001b[1;33m(\u001b[0m\u001b[0mweights\u001b[0m\u001b[1;33m)\u001b[0m \u001b[1;33m&\u001b[0m \u001b[1;36m1\u001b[0m\u001b[1;33m:\u001b[0m\u001b[1;33m\u001b[0m\u001b[0m\n\u001b[0;32m    129\u001b[0m         \u001b[0morigin\u001b[0m \u001b[1;33m-=\u001b[0m \u001b[1;36m1\u001b[0m\u001b[1;33m\u001b[0m\u001b[0m\n\u001b[1;32m--> 130\u001b[1;33m     \u001b[1;32mreturn\u001b[0m \u001b[0mcorrelate1d\u001b[0m\u001b[1;33m(\u001b[0m\u001b[0minput\u001b[0m\u001b[1;33m,\u001b[0m \u001b[0mweights\u001b[0m\u001b[1;33m,\u001b[0m \u001b[0maxis\u001b[0m\u001b[1;33m,\u001b[0m \u001b[0moutput\u001b[0m\u001b[1;33m,\u001b[0m \u001b[0mmode\u001b[0m\u001b[1;33m,\u001b[0m \u001b[0mcval\u001b[0m\u001b[1;33m,\u001b[0m \u001b[0morigin\u001b[0m\u001b[1;33m)\u001b[0m\u001b[1;33m\u001b[0m\u001b[0m\n\u001b[0m\u001b[0;32m    131\u001b[0m \u001b[1;33m\u001b[0m\u001b[0m\n\u001b[0;32m    132\u001b[0m \u001b[1;33m\u001b[0m\u001b[0m\n",
      "\u001b[1;32m~\\Anaconda3\\lib\\site-packages\\scipy\\ndimage\\filters.py\u001b[0m in \u001b[0;36mcorrelate1d\u001b[1;34m(input, weights, axis, output, mode, cval, origin)\u001b[0m\n\u001b[0;32m     81\u001b[0m     \u001b[0mweights\u001b[0m \u001b[1;33m=\u001b[0m \u001b[0mnumpy\u001b[0m\u001b[1;33m.\u001b[0m\u001b[0masarray\u001b[0m\u001b[1;33m(\u001b[0m\u001b[0mweights\u001b[0m\u001b[1;33m,\u001b[0m \u001b[0mdtype\u001b[0m\u001b[1;33m=\u001b[0m\u001b[0mnumpy\u001b[0m\u001b[1;33m.\u001b[0m\u001b[0mfloat64\u001b[0m\u001b[1;33m)\u001b[0m\u001b[1;33m\u001b[0m\u001b[0m\n\u001b[0;32m     82\u001b[0m     \u001b[1;32mif\u001b[0m \u001b[0mweights\u001b[0m\u001b[1;33m.\u001b[0m\u001b[0mndim\u001b[0m \u001b[1;33m!=\u001b[0m \u001b[1;36m1\u001b[0m \u001b[1;32mor\u001b[0m \u001b[0mweights\u001b[0m\u001b[1;33m.\u001b[0m\u001b[0mshape\u001b[0m\u001b[1;33m[\u001b[0m\u001b[1;36m0\u001b[0m\u001b[1;33m]\u001b[0m \u001b[1;33m<\u001b[0m \u001b[1;36m1\u001b[0m\u001b[1;33m:\u001b[0m\u001b[1;33m\u001b[0m\u001b[0m\n\u001b[1;32m---> 83\u001b[1;33m         \u001b[1;32mraise\u001b[0m \u001b[0mRuntimeError\u001b[0m\u001b[1;33m(\u001b[0m\u001b[1;34m'no filter weights given'\u001b[0m\u001b[1;33m)\u001b[0m\u001b[1;33m\u001b[0m\u001b[0m\n\u001b[0m\u001b[0;32m     84\u001b[0m     \u001b[1;32mif\u001b[0m \u001b[1;32mnot\u001b[0m \u001b[0mweights\u001b[0m\u001b[1;33m.\u001b[0m\u001b[0mflags\u001b[0m\u001b[1;33m.\u001b[0m\u001b[0mcontiguous\u001b[0m\u001b[1;33m:\u001b[0m\u001b[1;33m\u001b[0m\u001b[0m\n\u001b[0;32m     85\u001b[0m         \u001b[0mweights\u001b[0m \u001b[1;33m=\u001b[0m \u001b[0mweights\u001b[0m\u001b[1;33m.\u001b[0m\u001b[0mcopy\u001b[0m\u001b[1;33m(\u001b[0m\u001b[1;33m)\u001b[0m\u001b[1;33m\u001b[0m\u001b[0m\n",
      "\u001b[1;31mRuntimeError\u001b[0m: no filter weights given"
     ]
    }
   ],
   "source": [
    "from scipy import ndimage\n",
    "filtered_image = ndimage.convolve1d(image,np.array([1,-1]), mode='constant')\n",
    "filtered_image2 = ndimage.convolve1d(image,np.array([[1],[-1]]), mode='constant')"
   ]
  },
  {
   "cell_type": "code",
   "execution_count": 9,
   "metadata": {},
   "outputs": [
    {
     "name": "stderr",
     "output_type": "stream",
     "text": [
      "Clipping input data to the valid range for imshow with RGB data ([0..1] for floats or [0..255] for integers).\n"
     ]
    },
    {
     "data": {
      "text/plain": [
       "<matplotlib.image.AxesImage at 0x20303f40940>"
      ]
     },
     "execution_count": 9,
     "metadata": {},
     "output_type": "execute_result"
    },
    {
     "data": {
      "image/png": "[encoded data removed]",
      "text/plain": [
       "<Figure size 432x288 with 1 Axes>"
      ]
     },
     "metadata": {},
     "output_type": "display_data"
    }
   ],
   "source": [
    "plt.imshow(filtered_image)"
   ]
  },
  {
   "cell_type": "code",
   "execution_count": 74,
   "metadata": {},
   "outputs": [],
   "source": [
    "YL,XL = np.where(filtered_image==1)\n",
    "YR,XR= np.where(filtered_image==-1)\n",
    "YU,XU = np.where(filtered_image2==1)\n",
    "YD,XD= np.where(filtered_image2==-1)\n",
    "\n",
    "YU = np.asarray([y for _,y in sorted(zip(XU,YU))])\n",
    "YD = np.asarray([y for _,y in sorted(zip(XD,YD))])\n",
    "XU = np.sort(XU)\n",
    "XD = np.sort(XD)"
   ]
  },
  {
   "cell_type": "code",
   "execution_count": 75,
   "metadata": {},
   "outputs": [],
   "source": [
    "lines = XR-XL\n",
    "idx = np.where(lines==max(lines))\n",
    "widths = YD-YU\n",
    "idxw = np.where(widths==max(widths))"
   ]
  },
  {
   "cell_type": "code",
   "execution_count": 76,
   "metadata": {},
   "outputs": [
    {
     "data": {
      "text/plain": [
       "[<matplotlib.lines.Line2D at 0x12dab7b5a20>,\n",
       " <matplotlib.lines.Line2D at 0x12dab7bb908>,\n",
       " <matplotlib.lines.Line2D at 0x12dab7bba58>,\n",
       " <matplotlib.lines.Line2D at 0x12dab7bbba8>,\n",
       " <matplotlib.lines.Line2D at 0x12dab7bbcf8>,\n",
       " <matplotlib.lines.Line2D at 0x12dab7bbe48>,\n",
       " <matplotlib.lines.Line2D at 0x12dab7bbf98>,\n",
       " <matplotlib.lines.Line2D at 0x12dab7c6128>,\n",
       " <matplotlib.lines.Line2D at 0x12dab7c6278>,\n",
       " <matplotlib.lines.Line2D at 0x12dab7c63c8>,\n",
       " <matplotlib.lines.Line2D at 0x12dab7c6518>,\n",
       " <matplotlib.lines.Line2D at 0x12dab7c6668>,\n",
       " <matplotlib.lines.Line2D at 0x12dab7c67b8>,\n",
       " <matplotlib.lines.Line2D at 0x12dab7c6908>,\n",
       " <matplotlib.lines.Line2D at 0x12dab7c6a58>,\n",
       " <matplotlib.lines.Line2D at 0x12dab7c6ba8>,\n",
       " <matplotlib.lines.Line2D at 0x12dab7c6cf8>,\n",
       " <matplotlib.lines.Line2D at 0x12dab7c6e48>,\n",
       " <matplotlib.lines.Line2D at 0x12dab7c6f98>,\n",
       " <matplotlib.lines.Line2D at 0x12dab7ca128>,\n",
       " <matplotlib.lines.Line2D at 0x12dab7ca278>,\n",
       " <matplotlib.lines.Line2D at 0x12dab7ca3c8>,\n",
       " <matplotlib.lines.Line2D at 0x12dab7ca518>,\n",
       " <matplotlib.lines.Line2D at 0x12dab7ca668>,\n",
       " <matplotlib.lines.Line2D at 0x12dab7ca7b8>,\n",
       " <matplotlib.lines.Line2D at 0x12dab7ca908>,\n",
       " <matplotlib.lines.Line2D at 0x12dab7caa58>,\n",
       " <matplotlib.lines.Line2D at 0x12dab7caba8>,\n",
       " <matplotlib.lines.Line2D at 0x12dab7cacf8>,\n",
       " <matplotlib.lines.Line2D at 0x12dab7cae48>,\n",
       " <matplotlib.lines.Line2D at 0x12dab7caf98>,\n",
       " <matplotlib.lines.Line2D at 0x12dab7d0128>,\n",
       " <matplotlib.lines.Line2D at 0x12dab7d0278>,\n",
       " <matplotlib.lines.Line2D at 0x12dab7d0358>,\n",
       " <matplotlib.lines.Line2D at 0x12dab7d04a8>,\n",
       " <matplotlib.lines.Line2D at 0x12dab7d05f8>,\n",
       " <matplotlib.lines.Line2D at 0x12dab7d0748>,\n",
       " <matplotlib.lines.Line2D at 0x12dab7d0898>,\n",
       " <matplotlib.lines.Line2D at 0x12dab7d09e8>,\n",
       " <matplotlib.lines.Line2D at 0x12dab7d0b38>,\n",
       " <matplotlib.lines.Line2D at 0x12dab7d0c88>,\n",
       " <matplotlib.lines.Line2D at 0x12dab7d0dd8>,\n",
       " <matplotlib.lines.Line2D at 0x12dab7d0f28>]"
      ]
     },
     "execution_count": 76,
     "metadata": {},
     "output_type": "execute_result"
    },
    {
     "data": {
      "image/png": "[encoded data removed]",
      "text/plain": [
       "<Figure size 432x288 with 1 Axes>"
      ]
     },
     "metadata": {},
     "output_type": "display_data"
    }
   ],
   "source": [
    "fig, ax = plt.subplots()\n",
    "ax.imshow(image, cmap=plt.cm.gray)\n",
    "ax.plot((XR[idx], XL[idx]), (YL[idx], YR[idx]), '-r', linewidth=1)\n",
    "ax.plot((XU[idxw], XD[idxw]), (YU[idxw], YD[idxw]), '-r', linewidth=1)"
   ]
  },
  {
   "cell_type": "code",
   "execution_count": 67,
   "metadata": {},
   "outputs": [
    {
     "data": {
      "text/plain": [
       "array([ 79,  80,  81,  82,  83,  84,  85,  86,  87,  88,  89,  90,  91,\n",
       "        92,  93,  94,  95,  96,  97,  98,  99, 100, 101, 102, 103, 104,\n",
       "       105, 106, 107, 108, 109, 110, 111, 112, 113, 114, 115, 116, 117,\n",
       "       118, 119, 120, 121,  71,  72,  73,  74,  75,  76,  77,  78, 122,\n",
       "       123, 124, 125, 126, 127, 128, 129,  65,  66,  67,  68,  69,  70,\n",
       "       130, 131, 132, 133, 134, 135,  61,  62,  63,  64, 136, 137, 138,\n",
       "       139,  57,  58,  59,  60, 140, 141, 142, 143,  55,  56, 144, 145,\n",
       "        53,  54, 146, 147,  52, 148,  51, 149], dtype=int64)"
      ]
     },
     "execution_count": 67,
     "metadata": {},
     "output_type": "execute_result"
    }
   ],
   "source": [
    "XU"
   ]
  },
  {
   "cell_type": "code",
   "execution_count": 68,
   "metadata": {},
   "outputs": [
    {
     "data": {
      "text/plain": [
       "array([ 51, 149,  52, 148,  53,  54, 146, 147,  55,  56, 144, 145,  57,\n",
       "        58,  59,  60, 140, 141, 142, 143,  61,  62,  63,  64, 136, 137,\n",
       "       138, 139,  65,  66,  67,  68,  69,  70, 130, 131, 132, 133, 134,\n",
       "       135,  71,  72,  73,  74,  75,  76,  77,  78, 122, 123, 124, 125,\n",
       "       126, 127, 128, 129,  79,  80,  81,  82,  83,  84,  85,  86,  87,\n",
       "        88,  89,  90,  91,  92,  93,  94,  95,  96,  97,  98,  99, 100,\n",
       "       101, 102, 103, 104, 105, 106, 107, 108, 109, 110, 111, 112, 113,\n",
       "       114, 115, 116, 117, 118, 119, 120, 121], dtype=int64)"
      ]
     },
     "execution_count": 68,
     "metadata": {},
     "output_type": "execute_result"
    }
   ],
   "source": [
    "XD"
   ]
  },
  {
   "cell_type": "code",
   "execution_count": null,
   "metadata": {},
   "outputs": [],
   "source": []
  }
 ],
 "metadata": {
  "kernelspec": {
   "display_name": "Python 3",
   "language": "python",
   "name": "python3"
  },
  "language_info": {
   "codemirror_mode": {
    "name": "ipython",
    "version": 3
   },
   "file_extension": ".py",
   "mimetype": "text/x-python",
   "name": "python",
   "nbconvert_exporter": "python",
   "pygments_lexer": "ipython3",
   "version": "3.6.5"
  }
 },
 "nbformat": 4,
 "nbformat_minor": 2
}
